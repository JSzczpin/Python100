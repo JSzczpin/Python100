{
  "nbformat": 4,
  "nbformat_minor": 0,
  "metadata": {
    "colab": {
      "name": "Pyt100.ipynb",
      "provenance": [],
      "include_colab_link": true
    },
    "kernelspec": {
      "name": "python3",
      "display_name": "Python 3"
    },
    "language_info": {
      "name": "python"
    }
  },
  "cells": [
    {
      "cell_type": "markdown",
      "metadata": {
        "id": "view-in-github",
        "colab_type": "text"
      },
      "source": [
        "<a href=\"https://colab.research.google.com/github/JSzczpin/Python100/blob/main/Pyt100.ipynb\" target=\"_parent\"><img src=\"https://colab.research.google.com/assets/colab-badge.svg\" alt=\"Open In Colab\"/></a>"
      ]
    },
    {
      "cell_type": "markdown",
      "metadata": {
        "id": "rdIVltAHiHY0"
      },
      "source": [
        "\n",
        "### ROK PRZESTĘPNY"
      ]
    },
    {
      "cell_type": "code",
      "metadata": {
        "id": "uHY04shVK118"
      },
      "source": [
        ""
      ],
      "execution_count": null,
      "outputs": []
    },
    {
      "cell_type": "markdown",
      "metadata": {
        "id": "aP8xafwzK0eF"
      },
      "source": [
        ""
      ]
    },
    {
      "cell_type": "code",
      "metadata": {
        "colab": {
          "base_uri": "https://localhost:8080/"
        },
        "id": "XW4djhzoKylD",
        "outputId": "9695792c-9585-4080-f6e4-3abf4b49a5ef"
      },
      "source": [
        "print('Witaj w sprawdzaczu roku przestępnego!')\n",
        "year = int(input('Wpisz rok, który chcesz sprawdzić: '))\n",
        "\n",
        "if year % 4 != 0:\n",
        "  print(f'Rok {year} to nie jest rok przestępny')\n",
        "elif year % 100 !=0:\n",
        "  print(f'Rok {year} jest rokiem przestepnym')\n",
        "elif year % 400 != 0:\n",
        "  print(f'Rok {year} to nie jest rok przestępny')\n",
        "else:\n",
        "  print(f'Rok {year} jest rokiem przestepnym')"
      ],
      "execution_count": null,
      "outputs": [
        {
          "output_type": "stream",
          "text": [
            "Witaj w sprawdzaczu roku przestępnego!\n",
            "Wpisz rok: 2002\n",
            "Rok 2002 to nie jest rok przestępny\n"
          ],
          "name": "stdout"
        }
      ]
    },
    {
      "cell_type": "code",
      "metadata": {
        "id": "n3WRJ5ggMu8v"
      },
      "source": [
        "### Zamawianie pizzy"
      ],
      "execution_count": null,
      "outputs": []
    },
    {
      "cell_type": "code",
      "metadata": {
        "id": "D1kz3GKZrIwV"
      },
      "source": [
        "print('Welcome to automatic pizza ordering')\n",
        "\n",
        "pp = 0\n",
        "peperoni_price = 0\n",
        "cheese_price = 0\n",
        "\n",
        "\n",
        "size =input('Choose your pizza size S/M/L :').upper()\n",
        "if size == 'S':\n",
        "    pp = 15\n",
        "if size == 'M':\n",
        "    pp = 20\n",
        "if size == 'L':\n",
        "    pp = 25 \n",
        "extr_pep = input('Do you want extra peperoni? Y/N: ').upper()\n",
        "if extr_pep == 'Y':\n",
        "    if size == 'S':\n",
        "        peperoni_price = 2\n",
        "    else:\n",
        "        peperoni_price = 3\n",
        "extr_cheese = input('Do you want extra cheese? Y/N: ').upper()\n",
        "if extr_cheese == 'Y':\n",
        "    cheese_price =1\n",
        "    \n",
        "bill=pp+ peperoni_price + cheese_price    \n",
        "print(f'Your total bill is ${bill}')"
      ],
      "execution_count": null,
      "outputs": []
    },
    {
      "cell_type": "code",
      "metadata": {
        "id": "R5AZt1atzXGY"
      },
      "source": [
        "### Park rozrywki"
      ],
      "execution_count": null,
      "outputs": []
    },
    {
      "cell_type": "code",
      "metadata": {
        "id": "8cFdxz4gzZ8u"
      },
      "source": [
        "height = int(input('Enter your height in cm: '))\n",
        "\n",
        "if height >120:\n",
        "    age = int(input('What is your age? : '))\n",
        "    if age < 12:\n",
        "        bill = 5\n",
        "    elif age < 18:\n",
        "        bill = 7\n",
        "    elif age > 18:\n",
        "        if age >=45 & age <55:\n",
        "            bill =0\n",
        "        bill = 12\n",
        "    photo = input('Do you whant photo for 3$? Enter y/n: ')\n",
        "    if photo == 'y':\n",
        "        print(f'Your total bill is {bill +3} $')\n",
        "    else:\n",
        "         print(f'Your total bill is {bill} $')\n",
        "else:\n",
        "    print('You are too short for the ride :(')"
      ],
      "execution_count": null,
      "outputs": []
    },
    {
      "cell_type": "markdown",
      "metadata": {
        "id": "FFBgBheW0zzc"
      },
      "source": [
        "### LOVE CALUCATOR"
      ]
    },
    {
      "cell_type": "code",
      "metadata": {
        "id": "iFmQVy6P0zUT",
        "colab": {
          "base_uri": "https://localhost:8080/"
        },
        "outputId": "f6ad776f-701f-4774-ccc7-d19c954843d8"
      },
      "source": [
        "print('WITAM W KALKULATORZE MIŁOŚCI <3')\n",
        "input('Wciśnij enter aby się przekonać czy jesteście sobie przeznaczeni..')\n",
        "his_name = input('Jak ty się nazywasz? : ').lower()\n",
        "her_name = input('A Twój/a wybranek/a? : ').lower()\n",
        "\n",
        "p = his_name.count('p') + her_name.count('p')\n",
        "r = his_name.count('r') + her_name.count('r')\n",
        "a = his_name.count('a') + her_name.count('a')\n",
        "w = his_name.count('w') + her_name.count('w')\n",
        "d = his_name.count('d') + her_name.count('d')\n",
        "z = his_name.count('z') + her_name.count('z')\n",
        "i = his_name.count('i') + her_name.count('i')\n",
        "w = his_name.count('w') + her_name.count('w')\n",
        "a = his_name.count('a') + her_name.count('a')\n",
        "\n",
        "true = p+r+a+w+d+z+i+w\n",
        "\n",
        "m = his_name.count('m') + her_name.count('m')\n",
        "i = his_name.count('i') + her_name.count('i')\n",
        "ł = his_name.count('ł') + her_name.count('ł')\n",
        "o = his_name.count('o') + her_name.count('o')\n",
        "ś = his_name.count('ś') + her_name.count('ś')\n",
        "ć = his_name.count('ć') + her_name.count('ć')\n",
        "\n",
        "love =m+ i + ł + o + ś +ć\n",
        "\n",
        "love_score = int(f\"{true}{love}\")\n",
        "\n",
        "\n",
        "\n",
        "if (love_score >= 10) & (love_score <40):\n",
        "    print(f'Wasz wynik to {love_score}%. Nie jest wam pisana wspólna przyszłość')\n",
        "elif (love_score >= 40) & (love_score <60):\n",
        "    print(f'Wasz wynik to {love_score}%. Coś was łączy. Niestety nie za dużo...')\n",
        "elif (love_score >= 60) & (love_score <90):\n",
        "    print(f'Wasz wynik to {love_score}%. Love is in the air! Czeka was wspólna przyszłość')\n",
        "elif love_score >= 90:\n",
        "    print(f'Wasz wynik to {love_score}%. OMG! Taką miłość jak wasza spotyka się tylko raz w życiu!')\n",
        "else:\n",
        "  print(f'Wasz wynik to {love_score}%. Pasujecie jak pięść do nosa, zerwij póki możesz!!!')"
      ],
      "execution_count": null,
      "outputs": [
        {
          "output_type": "stream",
          "text": [
            "WITAM W KALKULATORZE MIŁOŚCI <3\n",
            "Wciśnij enter aby się przekonać czy jesteście sobie przeznaczeni..\n",
            "Jak ty się nazywasz? : jarek\n",
            "A Twój/a wybranek/a? : kaja\n",
            "Wasz wynik to 40%. Coś was łączy. Niestety nie za dużo...\n"
          ],
          "name": "stdout"
        }
      ]
    },
    {
      "cell_type": "markdown",
      "metadata": {
        "id": "TBkmdAOliN0O"
      },
      "source": [
        "### Gra w wisielca"
      ]
    },
    {
      "cell_type": "code",
      "metadata": {
        "id": "eVGXtOmFiQ0_"
      },
      "source": [
        "import random\n",
        "stages = ['''\n",
        "  +---+\n",
        "  |   |\n",
        "  O   |\n",
        " /|\\  |\n",
        " / \\  |\n",
        "      |\n",
        "=========\n",
        "''', '''\n",
        "  +---+\n",
        "  |   |\n",
        "  O   |\n",
        " /|\\  |\n",
        " /    |\n",
        "      |\n",
        "=========\n",
        "''', '''\n",
        "  +---+\n",
        "  |   |\n",
        "  O   |\n",
        " /|\\  |\n",
        "      |\n",
        "      |\n",
        "=========\n",
        "''', '''\n",
        "  +---+\n",
        "  |   |\n",
        "  O   |\n",
        " /|   |\n",
        "      |\n",
        "      |\n",
        "=========''', '''\n",
        "  +---+\n",
        "  |   |\n",
        "  O   |\n",
        "  |   |\n",
        "      |\n",
        "      |\n",
        "=========\n",
        "''', '''\n",
        "  +---+\n",
        "  |   |\n",
        "  O   |\n",
        "      |\n",
        "      |\n",
        "      |\n",
        "=========\n",
        "''', '''\n",
        "  +---+\n",
        "  |   |\n",
        "      |\n",
        "      |\n",
        "      |\n",
        "      |\n",
        "=========\n",
        "''']\n",
        "\n",
        "logo = ''' \n",
        " _                                             \n",
        "| |                                            \n",
        "| |__   __ _ _ __   __ _ _ __ ___   __ _ _ __  \n",
        "| '_ \\ / _` | '_ \\ / _` | '_ ` _ \\ / _` | '_ \\ \n",
        "| | | | (_| | | | | (_| | | | | | | (_| | | | |\n",
        "|_| |_|\\__,_|_| |_|\\__, |_| |_| |_|\\__,_|_| |_|\n",
        "                    __/ |                      \n",
        "                   |___/    '''\n",
        "\n",
        "\n",
        "word_list = ['krzak','balonowa','koszyk','wiertarka','obierki','ściereczka','kosmaty','wąs','liczb','skarpetki','ziemniak','kalosz','przybornik'\\\n",
        "             ,'koń','truteń','mydło','zagadka','papierośnica']\n",
        "word=random.choice(word_list)\n",
        "\n",
        "print(logo)\n",
        "\n",
        "blank = []\n",
        "missed=[]\n",
        "\n",
        "end_of_game = False\n",
        "player_lives = 6\n",
        "\n",
        "for letter in range(len(word)):\n",
        "  blank+= '_'   \n",
        "print(stages[6])\n",
        "print(blank)\n",
        "\n",
        "while not end_of_game :\n",
        "  guess = input('Zgadnij literkę: ').lower()\n",
        "\n",
        "  if guess in blank:\n",
        "        print(f'Podawał*ś już tę liczę: {guess}')  \n",
        "\n",
        "  for position in range(len(word)):\n",
        "    letter = word[position]\n",
        "\n",
        "    if letter == guess:\n",
        "      blank[position] = letter\n",
        "    \n",
        "\n",
        "  if guess not in word:\n",
        "    player_lives -=1\n",
        "    print(stages[player_lives])\n",
        "    missed.append(guess)\n",
        "    print(f'Zła literka, tracisz życie.\\n Złe odpowiedzi: {missed}')\n",
        "\n",
        "    if player_lives ==0:\n",
        "     end_of_game =True\n",
        "     print('PRZEGRANA :(')\n",
        "     print(f'Szukanym słowem było: {word}')\n",
        "\n",
        "  \n",
        "\n",
        "  print(blank)\n",
        "\n",
        "  if \"_\" not in blank:\n",
        "    print('WYGRANA')\n",
        "    end_of_game =True\n",
        "\n",
        "\n",
        "print('KONIEC GRY')\n",
        "\n",
        "\n"
      ],
      "execution_count": null,
      "outputs": []
    },
    {
      "cell_type": "code",
      "metadata": {
        "colab": {
          "base_uri": "https://localhost:8080/"
        },
        "id": "B7XrxWEC4q61",
        "outputId": "cc76c4a0-5c58-40e5-a760-ed372ee6a7bc"
      },
      "source": [
        ""
      ],
      "execution_count": null,
      "outputs": [
        {
          "output_type": "stream",
          "text": [
            "['b']\n"
          ],
          "name": "stdout"
        }
      ]
    },
    {
      "cell_type": "markdown",
      "metadata": {
        "id": "TFTgzN_0T0yo"
      },
      "source": [
        "### KOd"
      ]
    },
    {
      "cell_type": "code",
      "metadata": {
        "colab": {
          "base_uri": "https://localhost:8080/"
        },
        "id": "9v6lmt6yUFiN",
        "outputId": "625f8aeb-375f-4438-a22a-a8ffad9faa1e"
      },
      "source": [
        "alphabet = ['a', 'b', 'c', 'd', 'e', 'f', 'g', 'h', 'i', 'j', 'k', 'l', 'm', 'n', 'o', 'p', 'q', 'r', 's', 't', 'u', 'v', 'w', 'x', 'y', 'z','a', 'b', 'c', 'd', 'e', 'f', 'g', 'h', 'i', 'j', 'k', 'l', 'm', 'n', 'o', 'p', 'q', 'r', 's', 't', 'u', 'v', 'w', 'x', 'y', 'z']\n",
        "\n",
        "\n",
        "print('WELCOME ON KUBAS CRYPTING MACHINE')\n",
        "direction = input(\"Type 'encode' to encrypt, type 'decode' to decrypt:\\n\")\n",
        "text = input(\"Type your message:\\n\").lower()\n",
        "shift = int(input(\"Type the shift number:\\n\"))\n",
        "indexed=[]\n",
        "\n",
        "\n",
        "\n",
        "for ele in text:\n",
        "  if ele != ' ':\n",
        "    indexed.append(alphabet.index(ele))    \n",
        "  else:\n",
        "    indexed.append(' ')\n",
        "\n",
        "encoded =[]\n",
        "decoded =[]\n",
        "\n",
        "\n",
        "if direction == 'encode':\n",
        "  for num in indexed:\n",
        "    if num != ' ':\n",
        "      encoded.append(alphabet[num + shift] )\n",
        "    else:\n",
        "      encoded.append(' ')\n",
        "  string = ''.join([str(elem) for elem in encoded])\n",
        "  print(f'your encoded message is: {string}')\n",
        "\n",
        "  \n",
        "if direction == 'decode':\n",
        "  for num in indexed:\n",
        "    if num != ' ':\n",
        "      decoded.append(alphabet[num- shift] )\n",
        "    else:\n",
        "      decoded.append(' ')      \n",
        "  string = ''.join([str(elem) for elem in decoded])\n",
        "  print(f'your decoded message is: {string}')"
      ],
      "execution_count": 1,
      "outputs": [
        {
          "output_type": "stream",
          "text": [
            "WELCOME ON KUBAS CRYPTING MACHINE\n",
            "Type 'encode' to encrypt, type 'decode' to decrypt:\n",
            "encrypt\n",
            "Type your message:\n",
            "tolkm zscsybyg\n",
            "Type the shift number:\n",
            "-10\n"
          ],
          "name": "stdout"
        }
      ]
    },
    {
      "cell_type": "code",
      "metadata": {
        "id": "rmVLonh8aPPz",
        "outputId": "a6e373c0-3f46-4c71-a918-31b28864459d",
        "colab": {
          "base_uri": "https://localhost:8080/"
        }
      },
      "source": [
        "alphabet = ['a', 'b', 'c', 'd', 'e', 'f', 'g', 'h', 'i', 'j', 'k', 'l', 'm', 'n', 'o', 'p', 'q', 'r', 's', 't', 'u', 'v', 'w', 'x', 'y', 'z','a', 'b', 'c', 'd', 'e', 'f', 'g', 'h', 'i', 'j', 'k', 'l', 'm', 'n', 'o', 'p', 'q', 'r', 's', 't', 'u', 'v', 'w', 'x', 'y', 'z']\n",
        "\n",
        "\n",
        "print('WELCOME ON KUBAS CRYPTING MACHINE')\n",
        "direction = input(\"Type 'encode' to encrypt, type 'decode' to decrypt:\\n\")\n",
        "text = input(\"Type your message:\\n\").lower()\n",
        "shift = int(input(\"Type the shift number:\\n\"))\n",
        "\n",
        "\n",
        "def cesar(text,shift,direction):\n",
        "  indexed=[]\n",
        "  for ele in text:\n",
        "    if ele != ' ':\n",
        "      indexed.append(alphabet.index(ele))    \n",
        "    else:\n",
        "      indexed.append(' ')\n",
        "\n",
        "  if direction == 'encode':\n",
        "    encoded =[]\n",
        "    for num in indexed:\n",
        "      if num != ' ':\n",
        "        encoded.append(alphabet[num + shift] )\n",
        "      else:\n",
        "        encoded.append(' ')\n",
        "    string = ''.join([str(elem) for elem in encoded])\n",
        "    print(f'your encoded message is: {string}')\n",
        "\n",
        "  if direction == 'decode':\n",
        "    decoded =[]\n",
        "    for num in indexed:\n",
        "      if num != ' ':\n",
        "        decoded.append(alphabet[num- shift] )\n",
        "      else:\n",
        "        decoded.append(' ')      \n",
        "    string = ''.join([str(elem) for elem in decoded])\n",
        "    print(f'your decoded message is: {string}')\n",
        "\n",
        "cesar(text=text,shift=shift,direction=direction)"
      ],
      "execution_count": 5,
      "outputs": [
        {
          "output_type": "stream",
          "text": [
            "WELCOME ON KUBAS CRYPTING MACHINE\n",
            "Type 'encode' to encrypt, type 'decode' to decrypt:\n",
            "decode\n",
            "Type your message:\n",
            "tolkm zsc\n",
            "Type the shift number:\n",
            "10\n",
            "your decoded message is: jebac pis\n"
          ],
          "name": "stdout"
        }
      ]
    }
  ]
}