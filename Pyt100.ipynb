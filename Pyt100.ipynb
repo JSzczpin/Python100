{
  "nbformat": 4,
  "nbformat_minor": 0,
  "metadata": {
    "colab": {
      "name": "Pyt100.ipynb",
      "provenance": [],
      "authorship_tag": "ABX9TyONSUgCoqEtz4W8Eq+NKiq7",
      "include_colab_link": true
    },
    "kernelspec": {
      "name": "python3",
      "display_name": "Python 3"
    },
    "language_info": {
      "name": "python"
    }
  },
  "cells": [
    {
      "cell_type": "markdown",
      "metadata": {
        "id": "view-in-github",
        "colab_type": "text"
      },
      "source": [
        "<a href=\"https://colab.research.google.com/github/JSzczpin/Python100/blob/main/Pyt100.ipynb\" target=\"_parent\"><img src=\"https://colab.research.google.com/assets/colab-badge.svg\" alt=\"Open In Colab\"/></a>"
      ]
    },
    {
      "cell_type": "code",
      "metadata": {
        "id": "uHY04shVK118"
      },
      "source": [
        "###Czy rok jest przestępny?"
      ],
      "execution_count": null,
      "outputs": []
    },
    {
      "cell_type": "markdown",
      "metadata": {
        "id": "aP8xafwzK0eF"
      },
      "source": [
        ""
      ]
    },
    {
      "cell_type": "code",
      "metadata": {
        "colab": {
          "base_uri": "https://localhost:8080/"
        },
        "id": "XW4djhzoKylD",
        "outputId": "9695792c-9585-4080-f6e4-3abf4b49a5ef"
      },
      "source": [
        "print('Witaj w sprawdzaczu roku przestępnego!')\n",
        "year = int(input('Wpisz rok, który chcesz sprawdzić: '))\n",
        "\n",
        "if year % 4 != 0:\n",
        "  print(f'Rok {year} to nie jest rok przestępny')\n",
        "elif year % 100 !=0:\n",
        "  print(f'Rok {year} jest rokiem przestepnym')\n",
        "elif year % 400 != 0:\n",
        "  print(f'Rok {year} to nie jest rok przestępny')\n",
        "else:\n",
        "  print(f'Rok {year} jest rokiem przestepnym')"
      ],
      "execution_count": 7,
      "outputs": [
        {
          "output_type": "stream",
          "text": [
            "Witaj w sprawdzaczu roku przestępnego!\n",
            "Wpisz rok: 2002\n",
            "Rok 2002 to nie jest rok przestępny\n"
          ],
          "name": "stdout"
        }
      ]
    },
    {
      "cell_type": "code",
      "metadata": {
        "id": "n3WRJ5ggMu8v"
      },
      "source": [
        "### Zamawianie pizzy"
      ],
      "execution_count": null,
      "outputs": []
    },
    {
      "cell_type": "code",
      "metadata": {
        "id": "D1kz3GKZrIwV"
      },
      "source": [
        "print('Welcome to automatic pizza ordering')\n",
        "\n",
        "pp = 0\n",
        "peperoni_price = 0\n",
        "cheese_price = 0\n",
        "\n",
        "\n",
        "size =input('Choose your pizza size S/M/L :').upper()\n",
        "if size == 'S':\n",
        "    pp = 15\n",
        "if size == 'M':\n",
        "    pp = 20\n",
        "if size == 'L':\n",
        "    pp = 25 \n",
        "extr_pep = input('Do you want extra peperoni? Y/N: ').upper()\n",
        "if extr_pep == 'Y':\n",
        "    if size == 'S':\n",
        "        peperoni_price = 2\n",
        "    else:\n",
        "        peperoni_price = 3\n",
        "extr_cheese = input('Do you want extra cheese? Y/N: ').upper()\n",
        "if extr_cheese == 'Y':\n",
        "    cheese_price =1\n",
        "    \n",
        "bill=pp+ peperoni_price + cheese_price    \n",
        "print(f'Your total bill is ${bill}')"
      ],
      "execution_count": null,
      "outputs": []
    }
  ]
}