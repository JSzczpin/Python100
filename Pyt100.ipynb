{
  "nbformat": 4,
  "nbformat_minor": 0,
  "metadata": {
    "colab": {
      "name": "Pyt100.ipynb",
      "provenance": [],
      "authorship_tag": "ABX9TyNn+G91ocdj7CO8dv3mg5I2",
      "include_colab_link": true
    },
    "kernelspec": {
      "name": "python3",
      "display_name": "Python 3"
    },
    "language_info": {
      "name": "python"
    }
  },
  "cells": [
    {
      "cell_type": "markdown",
      "metadata": {
        "id": "view-in-github",
        "colab_type": "text"
      },
      "source": [
        "<a href=\"https://colab.research.google.com/github/JSzczpin/Python100/blob/main/Pyt100.ipynb\" target=\"_parent\"><img src=\"https://colab.research.google.com/assets/colab-badge.svg\" alt=\"Open In Colab\"/></a>"
      ]
    },
    {
      "cell_type": "code",
      "metadata": {
        "id": "uHY04shVK118"
      },
      "source": [
        "###Czy rok jest przestępny?"
      ],
      "execution_count": null,
      "outputs": []
    },
    {
      "cell_type": "markdown",
      "metadata": {
        "id": "aP8xafwzK0eF"
      },
      "source": [
        ""
      ]
    },
    {
      "cell_type": "code",
      "metadata": {
        "colab": {
          "base_uri": "https://localhost:8080/"
        },
        "id": "XW4djhzoKylD",
        "outputId": "9695792c-9585-4080-f6e4-3abf4b49a5ef"
      },
      "source": [
        "print('Witaj w sprawdzaczu roku przestępnego!')\n",
        "year = int(input('Wpisz rok, który chcesz sprawdzić: '))\n",
        "\n",
        "if year % 4 != 0:\n",
        "  print(f'Rok {year} to nie jest rok przestępny')\n",
        "elif year % 100 !=0:\n",
        "  print(f'Rok {year} jest rokiem przestepnym')\n",
        "elif year % 400 != 0:\n",
        "  print(f'Rok {year} to nie jest rok przestępny')\n",
        "else:\n",
        "  print(f'Rok {year} jest rokiem przestepnym')"
      ],
      "execution_count": 7,
      "outputs": [
        {
          "output_type": "stream",
          "text": [
            "Witaj w sprawdzaczu roku przestępnego!\n",
            "Wpisz rok: 2002\n",
            "Rok 2002 to nie jest rok przestępny\n"
          ],
          "name": "stdout"
        }
      ]
    },
    {
      "cell_type": "code",
      "metadata": {
        "id": "n3WRJ5ggMu8v"
      },
      "source": [
        "### Zamawianie pizzy"
      ],
      "execution_count": null,
      "outputs": []
    },
    {
      "cell_type": "code",
      "metadata": {
        "id": "D1kz3GKZrIwV"
      },
      "source": [
        "print('Welcome to automatic pizza ordering')\n",
        "\n",
        "pp = 0\n",
        "peperoni_price = 0\n",
        "cheese_price = 0\n",
        "\n",
        "\n",
        "size =input('Choose your pizza size S/M/L :').upper()\n",
        "if size == 'S':\n",
        "    pp = 15\n",
        "if size == 'M':\n",
        "    pp = 20\n",
        "if size == 'L':\n",
        "    pp = 25 \n",
        "extr_pep = input('Do you want extra peperoni? Y/N: ').upper()\n",
        "if extr_pep == 'Y':\n",
        "    if size == 'S':\n",
        "        peperoni_price = 2\n",
        "    else:\n",
        "        peperoni_price = 3\n",
        "extr_cheese = input('Do you want extra cheese? Y/N: ').upper()\n",
        "if extr_cheese == 'Y':\n",
        "    cheese_price =1\n",
        "    \n",
        "bill=pp+ peperoni_price + cheese_price    \n",
        "print(f'Your total bill is ${bill}')"
      ],
      "execution_count": null,
      "outputs": []
    },
    {
      "cell_type": "code",
      "metadata": {
        "id": "R5AZt1atzXGY"
      },
      "source": [
        "### Park rozrywki"
      ],
      "execution_count": null,
      "outputs": []
    },
    {
      "cell_type": "code",
      "metadata": {
        "id": "8cFdxz4gzZ8u"
      },
      "source": [
        "height = int(input('Enter your height in cm: '))\n",
        "\n",
        "if height >120:\n",
        "    age = int(input('What is your age? : '))\n",
        "    if age < 12:\n",
        "        bill = 5\n",
        "    elif age < 18:\n",
        "        bill = 7\n",
        "    elif age > 18:\n",
        "        if age >=45 & age <55:\n",
        "            bill =0\n",
        "        bill = 12\n",
        "    photo = input('Do you whant photo for 3$? Enter y/n: ')\n",
        "    if photo == 'y':\n",
        "        print(f'Your total bill is {bill +3} $')\n",
        "    else:\n",
        "         print(f'Your total bill is {bill} $')\n",
        "else:\n",
        "    print('You are too short for the ride :(')"
      ],
      "execution_count": null,
      "outputs": []
    },
    {
      "cell_type": "markdown",
      "metadata": {
        "id": "FFBgBheW0zzc"
      },
      "source": [
        "### LOVE CALUCATOR"
      ]
    },
    {
      "cell_type": "code",
      "metadata": {
        "colab": {
          "base_uri": "https://localhost:8080/"
        },
        "id": "iFmQVy6P0zUT",
        "outputId": "abb358d1-a4c1-4ca3-b3ce-1f3db68ec654"
      },
      "source": [
        "print('WITAM W KALKULATORZE MIŁOŚCI <3')\n",
        "input('Wciśnij enter aby się przekonać czy jesteście sobie przeznaczeni..')\n",
        "his_name = input('Jak nazywa się przystojny kawaler? : ').lower()\n",
        "her_name = input('A jak piękna panienka? : ').lower()\n",
        "\n",
        "t = his_name.count('t') + her_name.count('t')\n",
        "r = his_name.count('r') + her_name.count('r')\n",
        "u = his_name.count('u') + her_name.count('u')\n",
        "e = his_name.count('e') + her_name.count('e')\n",
        "\n",
        "true = t+r+u+e\n",
        "\n",
        "l = his_name.count('l') + her_name.count('l')\n",
        "o = his_name.count('o') + her_name.count('o')\n",
        "v = his_name.count('v') + her_name.count('v')\n",
        "e = his_name.count('e') + her_name.count('e')\n",
        "\n",
        "love =l+o+v+e\n",
        "\n",
        "love_score = int(f\"{true}{love}\")\n",
        "\n",
        "if love_score <= 10:\n",
        "  print(f'Wasz wynik to {love_score}%. Pasujecie jak pięść do nosa, zerwij póki możesz!!!')\n",
        "elif love_score > 10 & love_score < 40:\n",
        "  print(f'Wasz wynik to {love_score}%. Nie jest wam pisana wspólna przyszłość')\n",
        "elif love_score >= 40 & love_score < 60:\n",
        "  print(f'Wasz wynik to {love_score}%. Coś was łączy. Niestety nie za dużo...')\n",
        "elif love_score >= 60 & love_score < 90:\n",
        "  print(f'Wasz wynik to {love_score}%. Love is in the air! Czeka was wspólna przyszłość')\n",
        "else:\n",
        "   print(f'Wasz wynik to {love_score}%. OMG! Taką miłość jak wasza spotyka się tylko raz w życiu!')"
      ],
      "execution_count": 12,
      "outputs": [
        {
          "output_type": "stream",
          "text": [
            "WITAM W KALKULATORZE MIŁOŚCI <3\n",
            "Wciśnij enter aby się przekonać czy jesteście sobie przeznaczeni..\n",
            "Jak nazywa się przystojny kawaler? : Jarosław Kaczyński\n",
            "A jak piękna panienka? : Kaja Godek\n",
            "Wasz wynik to 23%. Nie jest wam pisana wspólna przyszłość\n"
          ],
          "name": "stdout"
        }
      ]
    },
    {
      "cell_type": "code",
      "metadata": {
        "colab": {
          "base_uri": "https://localhost:8080/"
        },
        "id": "0ZX24b3v1owY",
        "outputId": "9770b77d-96e8-43ac-9f7a-8fae1564655a"
      },
      "source": [
        ""
      ],
      "execution_count": 2,
      "outputs": [
        {
          "output_type": "stream",
          "text": [
            "1\n"
          ],
          "name": "stdout"
        }
      ]
    }
  ]
}