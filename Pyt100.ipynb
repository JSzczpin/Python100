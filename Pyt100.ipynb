{
  "nbformat": 4,
  "nbformat_minor": 0,
  "metadata": {
    "colab": {
      "name": "Pyt100.ipynb",
      "provenance": [],
      "authorship_tag": "ABX9TyP9BRGhQ8HvU4gW4ZHOmzBo",
      "include_colab_link": true
    },
    "kernelspec": {
      "name": "python3",
      "display_name": "Python 3"
    },
    "language_info": {
      "name": "python"
    }
  },
  "cells": [
    {
      "cell_type": "markdown",
      "metadata": {
        "id": "view-in-github",
        "colab_type": "text"
      },
      "source": [
        "<a href=\"https://colab.research.google.com/github/JSzczpin/Python100/blob/main/Pyt100.ipynb\" target=\"_parent\"><img src=\"https://colab.research.google.com/assets/colab-badge.svg\" alt=\"Open In Colab\"/></a>"
      ]
    },
    {
      "cell_type": "code",
      "metadata": {
        "id": "uHY04shVK118"
      },
      "source": [
        "###Czy rok jest przestępny?"
      ],
      "execution_count": null,
      "outputs": []
    },
    {
      "cell_type": "markdown",
      "metadata": {
        "id": "aP8xafwzK0eF"
      },
      "source": [
        ""
      ]
    },
    {
      "cell_type": "code",
      "metadata": {
        "colab": {
          "base_uri": "https://localhost:8080/"
        },
        "id": "XW4djhzoKylD",
        "outputId": "9695792c-9585-4080-f6e4-3abf4b49a5ef"
      },
      "source": [
        "print('Witaj w sprawdzaczu roku przestępnego!')\n",
        "year = int(input('Wpisz rok, który chcesz sprawdzić: '))\n",
        "\n",
        "if year % 4 != 0:\n",
        "  print(f'Rok {year} to nie jest rok przestępny')\n",
        "elif year % 100 !=0:\n",
        "  print(f'Rok {year} jest rokiem przestepnym')\n",
        "elif year % 400 != 0:\n",
        "  print(f'Rok {year} to nie jest rok przestępny')\n",
        "else:\n",
        "  print(f'Rok {year} jest rokiem przestepnym')"
      ],
      "execution_count": null,
      "outputs": [
        {
          "output_type": "stream",
          "text": [
            "Witaj w sprawdzaczu roku przestępnego!\n",
            "Wpisz rok: 2002\n",
            "Rok 2002 to nie jest rok przestępny\n"
          ],
          "name": "stdout"
        }
      ]
    },
    {
      "cell_type": "code",
      "metadata": {
        "id": "n3WRJ5ggMu8v"
      },
      "source": [
        "### Zamawianie pizzy"
      ],
      "execution_count": null,
      "outputs": []
    },
    {
      "cell_type": "code",
      "metadata": {
        "id": "D1kz3GKZrIwV"
      },
      "source": [
        "print('Welcome to automatic pizza ordering')\n",
        "\n",
        "pp = 0\n",
        "peperoni_price = 0\n",
        "cheese_price = 0\n",
        "\n",
        "\n",
        "size =input('Choose your pizza size S/M/L :').upper()\n",
        "if size == 'S':\n",
        "    pp = 15\n",
        "if size == 'M':\n",
        "    pp = 20\n",
        "if size == 'L':\n",
        "    pp = 25 \n",
        "extr_pep = input('Do you want extra peperoni? Y/N: ').upper()\n",
        "if extr_pep == 'Y':\n",
        "    if size == 'S':\n",
        "        peperoni_price = 2\n",
        "    else:\n",
        "        peperoni_price = 3\n",
        "extr_cheese = input('Do you want extra cheese? Y/N: ').upper()\n",
        "if extr_cheese == 'Y':\n",
        "    cheese_price =1\n",
        "    \n",
        "bill=pp+ peperoni_price + cheese_price    \n",
        "print(f'Your total bill is ${bill}')"
      ],
      "execution_count": null,
      "outputs": []
    },
    {
      "cell_type": "code",
      "metadata": {
        "id": "R5AZt1atzXGY"
      },
      "source": [
        "### Park rozrywki"
      ],
      "execution_count": null,
      "outputs": []
    },
    {
      "cell_type": "code",
      "metadata": {
        "id": "8cFdxz4gzZ8u"
      },
      "source": [
        "height = int(input('Enter your height in cm: '))\n",
        "\n",
        "if height >120:\n",
        "    age = int(input('What is your age? : '))\n",
        "    if age < 12:\n",
        "        bill = 5\n",
        "    elif age < 18:\n",
        "        bill = 7\n",
        "    elif age > 18:\n",
        "        if age >=45 & age <55:\n",
        "            bill =0\n",
        "        bill = 12\n",
        "    photo = input('Do you whant photo for 3$? Enter y/n: ')\n",
        "    if photo == 'y':\n",
        "        print(f'Your total bill is {bill +3} $')\n",
        "    else:\n",
        "         print(f'Your total bill is {bill} $')\n",
        "else:\n",
        "    print('You are too short for the ride :(')"
      ],
      "execution_count": null,
      "outputs": []
    },
    {
      "cell_type": "markdown",
      "metadata": {
        "id": "FFBgBheW0zzc"
      },
      "source": [
        "### LOVE CALUCATOR"
      ]
    },
    {
      "cell_type": "code",
      "metadata": {
        "id": "iFmQVy6P0zUT",
        "colab": {
          "base_uri": "https://localhost:8080/"
        },
        "outputId": "f6ad776f-701f-4774-ccc7-d19c954843d8"
      },
      "source": [
        "print('WITAM W KALKULATORZE MIŁOŚCI <3')\n",
        "input('Wciśnij enter aby się przekonać czy jesteście sobie przeznaczeni..')\n",
        "his_name = input('Jak ty się nazywasz? : ').lower()\n",
        "her_name = input('A Twój/a wybranek/a? : ').lower()\n",
        "\n",
        "p = his_name.count('p') + her_name.count('p')\n",
        "r = his_name.count('r') + her_name.count('r')\n",
        "a = his_name.count('a') + her_name.count('a')\n",
        "w = his_name.count('w') + her_name.count('w')\n",
        "d = his_name.count('d') + her_name.count('d')\n",
        "z = his_name.count('z') + her_name.count('z')\n",
        "i = his_name.count('i') + her_name.count('i')\n",
        "w = his_name.count('w') + her_name.count('w')\n",
        "a = his_name.count('a') + her_name.count('a')\n",
        "\n",
        "true = p+r+a+w+d+z+i+w\n",
        "\n",
        "m = his_name.count('m') + her_name.count('m')\n",
        "i = his_name.count('i') + her_name.count('i')\n",
        "ł = his_name.count('ł') + her_name.count('ł')\n",
        "o = his_name.count('o') + her_name.count('o')\n",
        "ś = his_name.count('ś') + her_name.count('ś')\n",
        "ć = his_name.count('ć') + her_name.count('ć')\n",
        "\n",
        "love =m+ i + ł + o + ś +ć\n",
        "\n",
        "love_score = int(f\"{true}{love}\")\n",
        "\n",
        "\n",
        "\n",
        "if (love_score >= 10) & (love_score <40):\n",
        "    print(f'Wasz wynik to {love_score}%. Nie jest wam pisana wspólna przyszłość')\n",
        "elif (love_score >= 40) & (love_score <60):\n",
        "    print(f'Wasz wynik to {love_score}%. Coś was łączy. Niestety nie za dużo...')\n",
        "elif (love_score >= 60) & (love_score <90):\n",
        "    print(f'Wasz wynik to {love_score}%. Love is in the air! Czeka was wspólna przyszłość')\n",
        "elif love_score >= 90:\n",
        "    print(f'Wasz wynik to {love_score}%. OMG! Taką miłość jak wasza spotyka się tylko raz w życiu!')\n",
        "else:\n",
        "  print(f'Wasz wynik to {love_score}%. Pasujecie jak pięść do nosa, zerwij póki możesz!!!')"
      ],
      "execution_count": 58,
      "outputs": [
        {
          "output_type": "stream",
          "text": [
            "WITAM W KALKULATORZE MIŁOŚCI <3\n",
            "Wciśnij enter aby się przekonać czy jesteście sobie przeznaczeni..\n",
            "Jak ty się nazywasz? : jarek\n",
            "A Twój/a wybranek/a? : kaja\n",
            "Wasz wynik to 40%. Coś was łączy. Niestety nie za dużo...\n"
          ],
          "name": "stdout"
        }
      ]
    }
  ]
}